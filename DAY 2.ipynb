{
 "cells": [
  {
   "cell_type": "markdown",
   "id": "f565d1d5",
   "metadata": {},
   "source": [
    "## Hyper Parameter Tuning\n",
    "\n",
    "- using ML model but trains data using different hyperparameter settings\n",
    "- using a voting ensemble\n",
    "- Random forest : ensemble\n",
    "- estimators :hyperparameter setting\n",
    "- ephoch"
   ]
  },
  {
   "cell_type": "code",
   "execution_count": null,
   "id": "e1870533",
   "metadata": {},
   "outputs": [],
   "source": []
  }
 ],
 "metadata": {
  "kernelspec": {
   "display_name": "Python 3 (ipykernel)",
   "language": "python",
   "name": "python3"
  },
  "language_info": {
   "codemirror_mode": {
    "name": "ipython",
    "version": 3
   },
   "file_extension": ".py",
   "mimetype": "text/x-python",
   "name": "python",
   "nbconvert_exporter": "python",
   "pygments_lexer": "ipython3",
   "version": "3.9.7"
  }
 },
 "nbformat": 4,
 "nbformat_minor": 5
}
